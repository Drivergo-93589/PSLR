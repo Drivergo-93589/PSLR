{
 "cells": [
  {
   "cell_type": "code",
   "execution_count": null,
   "id": "5428a489",
   "metadata": {},
   "outputs": [],
   "source": [
    "import numpy as np\n",
    "import pandas as pd\n",
    "\n",
    "from PSLR import PSLR, PSLR_Order\n",
    "from fun_helpers.data_generate import FunctionalGenerator, ScalarGenerator\n",
    "from fun_helpers.tools import add_time\n",
    "\n",
    "from sklearn.model_selection import train_test_split\n",
    "from sklearn.metrics import accuracy_score, f1_score"
   ]
  },
  {
   "cell_type": "code",
   "execution_count": null,
   "id": "8e72d0a3",
   "metadata": {},
   "outputs": [],
   "source": [
    "random_state = 2025\n",
    "FG = FunctionalGenerator(seed = random_state)\n",
    "SG = ScalarGenerator(seed = random_state)\n",
    "\n",
    "n = 100\n",
    "d = 2\n",
    "q = 3\n",
    "\n",
    "X, y = FG.get_data(n, d)\n",
    "X = add_time(X)\n",
    "z = SG.get_data(n, q)\n",
    "\n",
    "X_train, X_test, y_train, y_test = train_test_split(X, y, test_size= 0.2, random_state = random_state, stratify= y)\n",
    "z_train, z_test, _, _ = train_test_split(z, y, test_size= 0.2, random_state = random_state, stratify= y)\n",
    "\n",
    "OS = PSLR_Order() # PSLR Order Selector\n",
    "p = OS.select_order_p(8, X_train, y_train, z_train, CpenMax=0.5)\n",
    "model = PSLR(p)\n",
    "model.fit(X_train, y_train, z_train)\n",
    "y_pred = model.predict(X_test, z_test)\n",
    "\n",
    "ACC = accuracy_score(y_pred,y_test)\n",
    "F1 = f1_score(y_pred,y_test)\n",
    "\n",
    "print('Accuracy:', ACC, 'F1 score:', F1)"
   ]
  }
 ],
 "metadata": {
  "kernelspec": {
   "display_name": "base",
   "language": "python",
   "name": "python3"
  },
  "language_info": {
   "codemirror_mode": {
    "name": "ipython",
    "version": 3
   },
   "file_extension": ".py",
   "mimetype": "text/x-python",
   "name": "python",
   "nbconvert_exporter": "python",
   "pygments_lexer": "ipython3",
   "version": "3.12.3"
  }
 },
 "nbformat": 4,
 "nbformat_minor": 5
}
